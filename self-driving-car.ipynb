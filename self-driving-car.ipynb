{
 "cells": [
  {
   "cell_type": "markdown",
   "id": "d3e27445",
   "metadata": {
    "papermill": {
     "duration": 0.021615,
     "end_time": "2022-11-08T13:13:36.811710",
     "exception": false,
     "start_time": "2022-11-08T13:13:36.790095",
     "status": "completed"
    },
    "tags": []
   },
   "source": [
    "# 1. Libraries"
   ]
  },
  {
   "cell_type": "code",
   "execution_count": 1,
   "id": "20c3f5c1",
   "metadata": {
    "_cell_guid": "b1076dfc-b9ad-4769-8c92-a6c4dae69d19",
    "_uuid": "8f2839f25d086af736a60e9eeb907d3b93b6e0e5",
    "execution": {
     "iopub.execute_input": "2022-11-08T13:13:36.850904Z",
     "iopub.status.busy": "2022-11-08T13:13:36.850280Z",
     "iopub.status.idle": "2022-11-08T13:13:44.515514Z",
     "shell.execute_reply": "2022-11-08T13:13:44.514158Z"
    },
    "papermill": {
     "duration": 7.688572,
     "end_time": "2022-11-08T13:13:44.518344",
     "exception": false,
     "start_time": "2022-11-08T13:13:36.829772",
     "status": "completed"
    },
    "tags": []
   },
   "outputs": [],
   "source": [
    "# Visualizations will be shown in the notebook.\n",
    "%matplotlib inline\n",
    "import tensorflow\n",
    "import keras\n",
    "import cv2 \n",
    "\n",
    "import pandas as pd\n",
    "import numpy as np\n",
    "\n",
    "from matplotlib                  import pyplot as plt\n",
    "from PIL                         import Image\n",
    "from sklearn.model_selection     import train_test_split\n",
    "from sklearn.metrics             import mean_squared_error\n",
    "from keras.models                import Sequential\n",
    "from keras.layers.core           import Dense, Activation, Flatten, Dropout, Lambda\n",
    "from keras.layers.convolutional  import Convolution2D\n",
    "from keras.layers.pooling        import MaxPooling2D\n",
    "from keras.preprocessing.image   import ImageDataGenerator\n",
    "from keras.callbacks             import ModelCheckpoint\n",
    "from keras                       import backend as K\n",
    "\n",
    "from tensorflow.keras                           import optimizers\n",
    "from tensorflow.keras.layers                    import BatchNormalization\n",
    "from tensorflow.keras.applications              import ResNet50\n",
    "from tensorflow.keras.applications.inception_v3 import InceptionV3"
   ]
  },
  {
   "cell_type": "markdown",
   "id": "65b00e46",
   "metadata": {
    "papermill": {
     "duration": 0.013112,
     "end_time": "2022-11-08T13:13:44.545163",
     "exception": false,
     "start_time": "2022-11-08T13:13:44.532051",
     "status": "completed"
    },
    "tags": []
   },
   "source": [
    "# 2. Data Analyst"
   ]
  },
  {
   "cell_type": "markdown",
   "id": "bf2d85d0",
   "metadata": {
    "papermill": {
     "duration": 0.012756,
     "end_time": "2022-11-08T13:13:44.571063",
     "exception": false,
     "start_time": "2022-11-08T13:13:44.558307",
     "status": "completed"
    },
    "tags": []
   },
   "source": [
    "## 2.1 Get data"
   ]
  },
  {
   "cell_type": "code",
   "execution_count": 2,
   "id": "a861a407",
   "metadata": {
    "execution": {
     "iopub.execute_input": "2022-11-08T13:13:44.599021Z",
     "iopub.status.busy": "2022-11-08T13:13:44.598447Z",
     "iopub.status.idle": "2022-11-08T13:13:44.604302Z",
     "shell.execute_reply": "2022-11-08T13:13:44.603278Z"
    },
    "papermill": {
     "duration": 0.022352,
     "end_time": "2022-11-08T13:13:44.606535",
     "exception": false,
     "start_time": "2022-11-08T13:13:44.584183",
     "status": "completed"
    },
    "tags": []
   },
   "outputs": [],
   "source": [
    "all_path  = '../input/data-driving-car/all'\n",
    "all1_path = '../input/data-driving-car/all1'\n",
    "all2_path = '../input/data-driving-car/all2'\n",
    "\n",
    "recover1_path = '../input/data-driving-car/sub/recover1'\n",
    "recover2_path = '../input/data-driving-car/sub/recover2'\n",
    "track1_path   = '../input/data-driving-car/sub/track1'\n",
    "track2_path   = '../input/data-driving-car/sub/track2'\n",
    "udacity1_path = \"../input/data-driving-car/sub/udacity1\"\n",
    "\n",
    "img_path      = all_path + '/IMG/'"
   ]
  },
  {
   "cell_type": "code",
   "execution_count": 3,
   "id": "a3ea26ee",
   "metadata": {
    "execution": {
     "iopub.execute_input": "2022-11-08T13:13:44.634580Z",
     "iopub.status.busy": "2022-11-08T13:13:44.634262Z",
     "iopub.status.idle": "2022-11-08T13:13:45.166811Z",
     "shell.execute_reply": "2022-11-08T13:13:45.165517Z"
    },
    "papermill": {
     "duration": 0.549613,
     "end_time": "2022-11-08T13:13:45.169245",
     "exception": false,
     "start_time": "2022-11-08T13:13:44.619632",
     "status": "completed"
    },
    "tags": []
   },
   "outputs": [
    {
     "name": "stdout",
     "output_type": "stream",
     "text": [
      "All   dataset has 42400 rows\n",
      "All 1 dataset has 20808 rows\n",
      "All 2 dataset has 21592 rows\n"
     ]
    }
   ],
   "source": [
    "all_csv      = pd.read_csv(all_path      + '/driving_log.csv')\n",
    "all1_csv     = pd.read_csv(all1_path     + '/driving_log.csv')\n",
    "all2_csv     = pd.read_csv(all2_path     + '/driving_log.csv')\n",
    "recover1_csv = pd.read_csv(recover1_path + '/driving_log.csv')\n",
    "recover2_csv = pd.read_csv(recover2_path + '/driving_log.csv')\n",
    "track1_csv   = pd.read_csv(track1_path   + '/driving_log.csv')\n",
    "track2_csv   = pd.read_csv(track2_path   + '/driving_log.csv')\n",
    "udacity1_csv = pd.read_csv(udacity1_path + '/driving_log.csv')\n",
    "\n",
    "print(\"All   dataset has {0} rows\".format(len(all_csv)))\n",
    "print(\"All 1 dataset has {0} rows\".format(len(all1_csv)))\n",
    "print(\"All 2 dataset has {0} rows\".format(len(all2_csv)))"
   ]
  },
  {
   "cell_type": "code",
   "execution_count": 4,
   "id": "eacd35e5",
   "metadata": {
    "execution": {
     "iopub.execute_input": "2022-11-08T13:13:45.198576Z",
     "iopub.status.busy": "2022-11-08T13:13:45.196637Z",
     "iopub.status.idle": "2022-11-08T13:13:49.496932Z",
     "shell.execute_reply": "2022-11-08T13:13:49.495919Z"
    },
    "papermill": {
     "duration": 4.317202,
     "end_time": "2022-11-08T13:13:49.499549",
     "exception": false,
     "start_time": "2022-11-08T13:13:45.182347",
     "status": "completed"
    },
    "tags": []
   },
   "outputs": [
    {
     "name": "stdout",
     "output_type": "stream",
     "text": [
      "CALIBRATIONS=1, ROWS=42400\n"
     ]
    },
    {
     "name": "stdout",
     "output_type": "stream",
     "text": [
      "CALIBRATIONS=1, ROWS=20808\n"
     ]
    },
    {
     "name": "stdout",
     "output_type": "stream",
     "text": [
      "CALIBRATIONS=1, ROWS=21592\n"
     ]
    }
   ],
   "source": [
    "def get_steering_angles(data, st_column, st_calibrations, filtering_f=None):\n",
    "    cols = len(st_calibrations)\n",
    "    print(\"CALIBRATIONS={0}, ROWS={1}\".format(cols, data.shape[0]))\n",
    "    angles = np.zeros(data.shape[0] * cols, dtype=np.float32)  \n",
    "    i = 0\n",
    "    for indx, row in data.iterrows():        \n",
    "        st_angle = row[st_column]\n",
    "        for (j,st_calib) in enumerate(st_calibrations):  \n",
    "            angles[i * cols + j] = st_angle + st_calib\n",
    "        i += 1\n",
    "    return np.clip(angles, -1, 1)\n",
    "\n",
    "all_st_angles_without_calibrations  = get_steering_angles(all_csv , \"steering\", [0])\n",
    "all1_st_angles_without_calibrations = get_steering_angles(all1_csv, \"steering\", [0])\n",
    "all2_st_angles_without_calibrations = get_steering_angles(all2_csv, \"steering\", [0])"
   ]
  },
  {
   "cell_type": "code",
   "execution_count": 5,
   "id": "3fac6360",
   "metadata": {
    "execution": {
     "iopub.execute_input": "2022-11-08T13:13:49.526770Z",
     "iopub.status.busy": "2022-11-08T13:13:49.525158Z",
     "iopub.status.idle": "2022-11-08T13:13:49.531941Z",
     "shell.execute_reply": "2022-11-08T13:13:49.531001Z"
    },
    "papermill": {
     "duration": 0.021645,
     "end_time": "2022-11-08T13:13:49.533788",
     "exception": false,
     "start_time": "2022-11-08T13:13:49.512143",
     "status": "completed"
    },
    "tags": []
   },
   "outputs": [],
   "source": [
    "def read_img(img_full_path, img_dir=\"/IMG\"):\n",
    "    prefix_path = all_path + img_dir   \n",
    "    img_path = \"{0}/{1}\".format(prefix_path, img_full_path.split(\"\\\\\")[-1])    \n",
    "    img = cv2.imread(img_path)\n",
    "    return cv2.cvtColor(img, cv2.COLOR_BGR2RGB)"
   ]
  },
  {
   "cell_type": "markdown",
   "id": "539b5295",
   "metadata": {
    "papermill": {
     "duration": 0.012741,
     "end_time": "2022-11-08T13:13:49.559856",
     "exception": false,
     "start_time": "2022-11-08T13:13:49.547115",
     "status": "completed"
    },
    "tags": []
   },
   "source": [
    "## 2.2 Split data Train/Validation/Test (50/10/40)"
   ]
  },
  {
   "cell_type": "code",
   "execution_count": 6,
   "id": "0c84dc92",
   "metadata": {
    "execution": {
     "iopub.execute_input": "2022-11-08T13:13:49.586950Z",
     "iopub.status.busy": "2022-11-08T13:13:49.585867Z",
     "iopub.status.idle": "2022-11-08T13:13:49.610138Z",
     "shell.execute_reply": "2022-11-08T13:13:49.608471Z"
    },
    "papermill": {
     "duration": 0.040633,
     "end_time": "2022-11-08T13:13:49.613180",
     "exception": false,
     "start_time": "2022-11-08T13:13:49.572547",
     "status": "completed"
    },
    "tags": []
   },
   "outputs": [
    {
     "name": "stdout",
     "output_type": "stream",
     "text": [
      "The size of train      dataset: 21200\n",
      "The size of validation dataset: 4240\n",
      "The size of test       dataset: 16960\n"
     ]
    }
   ],
   "source": [
    "train_samples, tmp_samples       = train_test_split(all_csv    , test_size = 0.5, random_state=4)\n",
    "validation_samples, test_samples = train_test_split(tmp_samples, test_size = 0.8, random_state=4)\n",
    "\n",
    "print(\"The size of train      dataset:\",len(train_samples     ))\n",
    "print(\"The size of validation dataset:\",len(validation_samples))\n",
    "print(\"The size of test       dataset:\",len(test_samples      ))"
   ]
  },
  {
   "cell_type": "markdown",
   "id": "2b4ae5c6",
   "metadata": {
    "papermill": {
     "duration": 0.013226,
     "end_time": "2022-11-08T13:13:49.640086",
     "exception": false,
     "start_time": "2022-11-08T13:13:49.626860",
     "status": "completed"
    },
    "tags": []
   },
   "source": [
    "# 3. Visualize Data"
   ]
  },
  {
   "cell_type": "code",
   "execution_count": 7,
   "id": "e24ebc1f",
   "metadata": {
    "execution": {
     "iopub.execute_input": "2022-11-08T13:13:49.668913Z",
     "iopub.status.busy": "2022-11-08T13:13:49.667896Z",
     "iopub.status.idle": "2022-11-08T13:13:50.191180Z",
     "shell.execute_reply": "2022-11-08T13:13:50.190167Z"
    },
    "papermill": {
     "duration": 0.540023,
     "end_time": "2022-11-08T13:13:50.193614",
     "exception": false,
     "start_time": "2022-11-08T13:13:49.653591",
     "status": "completed"
    },
    "tags": []
   },
   "outputs": [
    {
     "data": {
      "image/png": "[encoded data removed]",
      "text/plain": [
       "<Figure size 1440x504 with 2 Axes>"
      ]
     },
     "metadata": {
      "needs_background": "light"
     },
     "output_type": "display_data"
    }
   ],
   "source": [
    "fig, ax = plt.subplots(1, 2, figsize=(20, 7))\n",
    "\n",
    "ax[0].grid(True)\n",
    "ax[0].set(title=\"All 1 - Distribution of steering angles\")\n",
    "count, bins, _ = ax[0].hist(all1_st_angles_without_calibrations, bins=25,histtype='bar' )\n",
    "\n",
    "ax[1].grid(True)\n",
    "ax[1].set(title=\"All 2 - Distribution of steering angles\")\n",
    "count, bins, _ = ax[1].hist(all2_st_angles_without_calibrations, bins=25,histtype='bar' )"
   ]
  },
  {
   "cell_type": "code",
   "execution_count": 8,
   "id": "7e2339ba",
   "metadata": {
    "execution": {
     "iopub.execute_input": "2022-11-08T13:13:50.221602Z",
     "iopub.status.busy": "2022-11-08T13:13:50.221287Z",
     "iopub.status.idle": "2022-11-08T13:13:50.491478Z",
     "shell.execute_reply": "2022-11-08T13:13:50.490516Z"
    },
    "papermill": {
     "duration": 0.286765,
     "end_time": "2022-11-08T13:13:50.493810",
     "exception": false,
     "start_time": "2022-11-08T13:13:50.207045",
     "status": "completed"
    },
    "tags": []
   },
   "outputs": [
    {
     "data": {
      "image/png": "[encoded data removed]",
      "text/plain": [
       "<Figure size 504x360 with 1 Axes>"
      ]
     },
     "metadata": {
      "needs_background": "light"
     },
     "output_type": "display_data"
    }
   ],
   "source": [
    "fig, ax = plt.subplots(1, 1, figsize=(7, 5))\n",
    "\n",
    "ax.grid(True)\n",
    "ax.set(title=\"All - Distribution of steering angles\")\n",
    "count, bins, _ = ax.hist(all_st_angles_without_calibrations, bins=25, histtype='bar')"
   ]
  },
  {
   "cell_type": "markdown",
   "id": "05a0fffd",
   "metadata": {
    "papermill": {
     "duration": 0.012614,
     "end_time": "2022-11-08T13:13:50.519185",
     "exception": false,
     "start_time": "2022-11-08T13:13:50.506571",
     "status": "completed"
    },
    "tags": []
   },
   "source": [
    "# 4. Data Agument"
   ]
  },
  {
   "cell_type": "code",
   "execution_count": 9,
   "id": "7f619f8f",
   "metadata": {
    "execution": {
     "iopub.execute_input": "2022-11-08T13:13:50.547305Z",
     "iopub.status.busy": "2022-11-08T13:13:50.546284Z",
     "iopub.status.idle": "2022-11-08T13:13:50.556266Z",
     "shell.execute_reply": "2022-11-08T13:13:50.554765Z"
    },
    "papermill": {
     "duration": 0.026494,
     "end_time": "2022-11-08T13:13:50.558907",
     "exception": false,
     "start_time": "2022-11-08T13:13:50.532413",
     "status": "completed"
    },
    "tags": []
   },
   "outputs": [],
   "source": [
    "def fliph_image(img):\n",
    "    return cv2.flip(img, 1)\n",
    "\n",
    "def blur_image(img, f_size=5):\n",
    "    img = cv2.GaussianBlur(img,(f_size, f_size),0)\n",
    "    img = np.clip(img, 0, 255)\n",
    "    return img.astype(np.uint8) \n",
    "\n",
    "def change_image_brightness_rgb(img, s_low=0.2, s_high=0.75):\n",
    "    img = img.astype(np.float32)\n",
    "    s = np.random.uniform(s_low, s_high)\n",
    "    img[:,:,:] *= s\n",
    "    np.clip(img, 0, 255)\n",
    "    return  img.astype(np.uint8)\n",
    "\n",
    "def translate_image(img, st_angle, low_x_range, high_x_range, low_y_range, high_y_range, delta_st_angle_per_px):\n",
    "    rows, cols = (img.shape[0], img.shape[1])\n",
    "    translation_x = np.random.randint(low_x_range, high_x_range) \n",
    "    translation_y = np.random.randint(low_y_range, high_y_range) \n",
    "    st_angle += translation_x * delta_st_angle_per_px\n",
    "    translation_matrix = np.float32([[1, 0, translation_x],[0, 1, translation_y]])\n",
    "    img = cv2.warpAffine(img, translation_matrix, (cols, rows))\n",
    "    return img, st_angle "
   ]
  },
  {
   "cell_type": "code",
   "execution_count": 10,
   "id": "1f0672ea",
   "metadata": {
    "execution": {
     "iopub.execute_input": "2022-11-08T13:13:50.585262Z",
     "iopub.status.busy": "2022-11-08T13:13:50.584947Z",
     "iopub.status.idle": "2022-11-08T13:13:50.591474Z",
     "shell.execute_reply": "2022-11-08T13:13:50.590449Z"
    },
    "papermill": {
     "duration": 0.022198,
     "end_time": "2022-11-08T13:13:50.593829",
     "exception": false,
     "start_time": "2022-11-08T13:13:50.571631",
     "status": "completed"
    },
    "tags": []
   },
   "outputs": [],
   "source": [
    "def augment_image(img, st_angle):\n",
    "    aug_img = img\n",
    "    \n",
    "    if np.random.random_sample() <= 0.5:\n",
    "        aug_img = blur_image(aug_img)\n",
    "    if np.random.random_sample() <= 0.5:\n",
    "        aug_img = fliph_image(aug_img)\n",
    "        st_angle = - st_angle\n",
    "    if np.random.random_sample() <= 0.5:       \n",
    "        aug_img = change_image_brightness_rgb(aug_img)       \n",
    "    if np.random.random_sample() <= 0.5:\n",
    "        aug_img, st_angle = translate_image(aug_img, st_angle, -60, 61, -20, 21, 0.35/100.0)\n",
    "\n",
    "    return aug_img, st_angle"
   ]
  },
  {
   "cell_type": "markdown",
   "id": "b2818692",
   "metadata": {
    "papermill": {
     "duration": 0.012558,
     "end_time": "2022-11-08T13:13:50.618577",
     "exception": false,
     "start_time": "2022-11-08T13:13:50.606019",
     "status": "completed"
    },
    "tags": []
   },
   "source": [
    "# 5. Generator"
   ]
  },
  {
   "cell_type": "code",
   "execution_count": 11,
   "id": "1b13aa3b",
   "metadata": {
    "execution": {
     "iopub.execute_input": "2022-11-08T13:13:50.649970Z",
     "iopub.status.busy": "2022-11-08T13:13:50.649696Z",
     "iopub.status.idle": "2022-11-08T13:13:50.661168Z",
     "shell.execute_reply": "2022-11-08T13:13:50.660150Z"
    },
    "papermill": {
     "duration": 0.031986,
     "end_time": "2022-11-08T13:13:50.663292",
     "exception": false,
     "start_time": "2022-11-08T13:13:50.631306",
     "status": "completed"
    },
    "tags": []
   },
   "outputs": [],
   "source": [
    "def generate_images(df, target_dimensions, img_types, st_column, st_angle_calibrations, \n",
    "                    batch_size=100, shuffle=True, data_aug_pct=0.8, aug_likelihood=0.5, \n",
    "                    st_angle_threshold=0.05, neutral_drop_pct=0.25):\n",
    "\n",
    "    # e.g. 160x320x3 for target_dimensions\n",
    "    batch = np.zeros((batch_size, target_dimensions[0],  target_dimensions[1],  target_dimensions[2]), dtype=np.float32)\n",
    "    steering_angles = np.zeros(batch_size)\n",
    "    df_len = len(df)\n",
    "    \n",
    "    while True:\n",
    "        k = 0\n",
    "        while k < batch_size:            \n",
    "            idx = np.random.randint(0, df_len)       \n",
    "            for img_t, st_calib in zip(img_types, st_angle_calibrations):\n",
    "                if k >= batch_size:\n",
    "                    break\n",
    "                                \n",
    "                row = df.iloc[idx]\n",
    "                st_angle = row[st_column]            \n",
    "                \n",
    "                # Drop neutral-ish steering angle images with some probability\n",
    "                if abs(st_angle) < st_angle_threshold and np.random.random_sample() <= neutral_drop_pct :\n",
    "                    continue\n",
    "                    \n",
    "                st_angle += st_calib                                                                \n",
    "                img_type_path = row[img_t]  \n",
    "                img = read_img(img_type_path)                \n",
    "                \n",
    "                # Resize image            \n",
    "                img, st_angle = augment_image(img, st_angle) if np.random.random_sample() <= data_aug_pct else (img, st_angle)\n",
    "                batch[k] = img\n",
    "                steering_angles[k] = st_angle\n",
    "                k += 1\n",
    "            \n",
    "        yield batch, np.clip(steering_angles, -1, 1)    "
   ]
  },
  {
   "cell_type": "code",
   "execution_count": 12,
   "id": "d8bae8ad",
   "metadata": {
    "execution": {
     "iopub.execute_input": "2022-11-08T13:13:50.691569Z",
     "iopub.status.busy": "2022-11-08T13:13:50.690856Z",
     "iopub.status.idle": "2022-11-08T13:13:50.696742Z",
     "shell.execute_reply": "2022-11-08T13:13:50.695509Z"
    },
    "papermill": {
     "duration": 0.022302,
     "end_time": "2022-11-08T13:13:50.699135",
     "exception": false,
     "start_time": "2022-11-08T13:13:50.676833",
     "status": "completed"
    },
    "tags": []
   },
   "outputs": [],
   "source": [
    "batch_size = 32\n",
    "st_angle_names = [\"center\", \"left\", \"right\"]\n",
    "st_angle_calibrations = [0, 0.25, -0.25]\n",
    "\n",
    "train_generator      = generate_images(train_samples,      (160, 320, 3), st_angle_names, \"steering\", st_angle_calibrations,  batch_size=batch_size)\n",
    "validation_generator = generate_images(validation_samples, (160, 320, 3), st_angle_names, \"steering\", st_angle_calibrations,  batch_size=batch_size, data_aug_pct=0.0)"
   ]
  },
  {
   "cell_type": "markdown",
   "id": "fe0c2d14",
   "metadata": {
    "papermill": {
     "duration": 0.013112,
     "end_time": "2022-11-08T13:13:50.725724",
     "exception": false,
     "start_time": "2022-11-08T13:13:50.712612",
     "status": "completed"
    },
    "tags": []
   },
   "source": [
    "# 6. Model"
   ]
  },
  {
   "cell_type": "markdown",
   "id": "3d9470db",
   "metadata": {
    "papermill": {
     "duration": 0.013296,
     "end_time": "2022-11-08T13:13:50.752724",
     "exception": false,
     "start_time": "2022-11-08T13:13:50.739428",
     "status": "completed"
    },
    "tags": []
   },
   "source": [
    "## 6.1 NVIDIA Model"
   ]
  },
  {
   "cell_type": "code",
   "execution_count": 13,
   "id": "5e285b00",
   "metadata": {
    "execution": {
     "iopub.execute_input": "2022-11-08T13:13:50.780847Z",
     "iopub.status.busy": "2022-11-08T13:13:50.780556Z",
     "iopub.status.idle": "2022-11-08T13:13:50.792006Z",
     "shell.execute_reply": "2022-11-08T13:13:50.791077Z"
    },
    "papermill": {
     "duration": 0.027964,
     "end_time": "2022-11-08T13:13:50.794048",
     "exception": false,
     "start_time": "2022-11-08T13:13:50.766084",
     "status": "completed"
    },
    "tags": []
   },
   "outputs": [],
   "source": [
    "def nvidia_model(optimizer, activation):\n",
    "    model = Sequential()\n",
    "\n",
    "    model.add(Lambda(lambda imgs: imgs[:,80:,:,:], input_shape=(160, 320, 3)))\n",
    "    model.add(Lambda(lambda imgs: (imgs/255.0)))\n",
    "    \n",
    "    # Convolutional layers \n",
    "    \n",
    "    model.add(Convolution2D(24, (5, 5), strides=(2, 2), activation=activation))\n",
    "    model.add(BatchNormalization())\n",
    "    model.add(Convolution2D(36, (5, 5), strides=(2, 2), activation=activation))\n",
    "    model.add(BatchNormalization())\n",
    "    model.add(Dropout(0.5))\n",
    "    model.add(Convolution2D(48, (5, 5), strides=(2, 2), activation=activation))    \n",
    "    model.add(BatchNormalization())\n",
    "    model.add(Dropout(0.5))\n",
    "    model.add(Convolution2D(64, (3, 3), strides=(1, 1), activation=activation)) \n",
    "    model.add(BatchNormalization())\n",
    "    model.add(Dropout(0.5))\n",
    "    model.add(Convolution2D(64, (3, 3), strides=(1, 1), activation=activation)) \n",
    "    model.add(BatchNormalization())\n",
    "    model.add(Dropout(0.5))\n",
    "    model.add(Flatten())\n",
    "    \n",
    "    # Fully connected layers\n",
    "    \n",
    "    model.add(Dense(1164, activation=activation))\n",
    "    model.add(BatchNormalization())\n",
    "    model.add(Dense(100, activation=activation))\n",
    "    model.add(BatchNormalization())\n",
    "    model.add(Dense(50, activation=activation))\n",
    "    model.add(BatchNormalization())\n",
    "    model.add(Dense(10, activation=activation))\n",
    "    model.add(BatchNormalization())\n",
    "    model.add(Dense(1))\n",
    " \n",
    "    model.compile(loss = \"MSE\", optimizer = optimizer)\n",
    "    return model"
   ]
  },
  {
   "cell_type": "markdown",
   "id": "9bdb9d7e",
   "metadata": {
    "papermill": {
     "duration": 0.012843,
     "end_time": "2022-11-08T13:13:50.819907",
     "exception": false,
     "start_time": "2022-11-08T13:13:50.807064",
     "status": "completed"
    },
    "tags": []
   },
   "source": [
    "## 6.2 ResNet50 model"
   ]
  },
  {
   "cell_type": "code",
   "execution_count": 14,
   "id": "c7f4ac26",
   "metadata": {
    "execution": {
     "iopub.execute_input": "2022-11-08T13:13:50.849329Z",
     "iopub.status.busy": "2022-11-08T13:13:50.847595Z",
     "iopub.status.idle": "2022-11-08T13:13:50.858443Z",
     "shell.execute_reply": "2022-11-08T13:13:50.857554Z"
    },
    "papermill": {
     "duration": 0.027363,
     "end_time": "2022-11-08T13:13:50.860459",
     "exception": false,
     "start_time": "2022-11-08T13:13:50.833096",
     "status": "completed"
    },
    "tags": []
   },
   "outputs": [],
   "source": [
    "def resnet50_model(optimizer, activation):\n",
    "    model = Sequential()\n",
    "    \n",
    "    model.add(Lambda(lambda imgs: imgs[:,80:,:,:], input_shape=(160, 320, 3)))\n",
    "    model.add(Lambda(lambda imgs: (imgs/255.0)))\n",
    "    \n",
    "    # ResNet50 layer\n",
    "    \n",
    "    resnet_layer = ResNet50(input_shape=(80, 320, 3),include_top=False,weights='imagenet')\n",
    "    for layer in resnet_layer.layers:\n",
    "         layer.trainable = False\n",
    "   \n",
    "    last_layer  = resnet_layer.get_layer('conv5_block3_out')\n",
    "    last_output = last_layer.output\n",
    "    \n",
    "    model.add(resnet_layer)\n",
    "    model.add(Flatten())\n",
    "    \n",
    "    # Fully connected layers\n",
    "    \n",
    "    model.add(BatchNormalization())\n",
    "    model.add(Dense(1164, activation=activation))\n",
    "    model.add(BatchNormalization())\n",
    "    model.add(Dropout(0.5))\n",
    "    model.add(Dense(100, activation=activation))\n",
    "    model.add(BatchNormalization())\n",
    "    model.add(Dropout(0.5))\n",
    "    model.add(Dense(50, activation=activation))\n",
    "    model.add(BatchNormalization())\n",
    "    model.add(Dropout(0.5))\n",
    "    model.add(Dense(10, activation=activation))\n",
    "    model.add(BatchNormalization())\n",
    "    model.add(Dropout(0.5))\n",
    "    model.add(Dense(1))\n",
    "    model.compile(loss = \"MSE\", optimizer = optimizer)\n",
    "    \n",
    "    return model"
   ]
  },
  {
   "cell_type": "markdown",
   "id": "e5a325b0",
   "metadata": {
    "papermill": {
     "duration": 0.013105,
     "end_time": "2022-11-08T13:13:50.886664",
     "exception": false,
     "start_time": "2022-11-08T13:13:50.873559",
     "status": "completed"
    },
    "tags": []
   },
   "source": [
    "## 6.3 Inception V3 model"
   ]
  },
  {
   "cell_type": "code",
   "execution_count": 15,
   "id": "7f6c8765",
   "metadata": {
    "execution": {
     "iopub.execute_input": "2022-11-08T13:13:50.914297Z",
     "iopub.status.busy": "2022-11-08T13:13:50.913980Z",
     "iopub.status.idle": "2022-11-08T13:13:50.923559Z",
     "shell.execute_reply": "2022-11-08T13:13:50.922436Z"
    },
    "papermill": {
     "duration": 0.025858,
     "end_time": "2022-11-08T13:13:50.925453",
     "exception": false,
     "start_time": "2022-11-08T13:13:50.899595",
     "status": "completed"
    },
    "tags": []
   },
   "outputs": [],
   "source": [
    "def inceptionv3_model(optimizer, activation):\n",
    "    \n",
    "    # Input layers\n",
    "    model = Sequential()\n",
    "    model.add(Lambda(lambda imgs: imgs[:,80:,:,:], input_shape=(160, 320, 3)))\n",
    "    model.add(Lambda(lambda imgs: (imgs/255.0)))\n",
    "    \n",
    "    # InceptionV3 layer\n",
    "    inception_layer = InceptionV3(input_shape = (80, 320, 3), include_top = False, weights = \"imagenet\")\n",
    "\n",
    "    for layer in inception_layer.layers:\n",
    "         layer.trainable = False\n",
    "\n",
    "    last_layer = inception_layer.get_layer('mixed7')\n",
    "    last_output = last_layer.output\n",
    "    \n",
    "    model.add(inception_layer)\n",
    "    \n",
    "    # Fully connected layers\n",
    "    model.add(Flatten())\n",
    "    model.add(BatchNormalization())\n",
    "    model.add(Dense(1164, activation=activation))\n",
    "    model.add(BatchNormalization())\n",
    "    model.add(Dropout(0.5))\n",
    "    model.add(Dense(100, activation=activation))\n",
    "    model.add(BatchNormalization())\n",
    "    model.add(Dropout(0.5))\n",
    "    model.add(Dense(50, activation=activation))\n",
    "    model.add(BatchNormalization())\n",
    "    model.add(Dropout(0.5))\n",
    "    model.add(Dense(10, activation=activation))\n",
    "    model.add(BatchNormalization())\n",
    "    model.add(Dropout(0.5))\n",
    "    model.add(Dense(1))\n",
    "    model.compile(loss = \"MSE\", optimizer = optimizer)\n",
    "    \n",
    "    return model"
   ]
  },
  {
   "cell_type": "markdown",
   "id": "7888f19e",
   "metadata": {
    "papermill": {
     "duration": 0.012921,
     "end_time": "2022-11-08T13:13:50.951694",
     "exception": false,
     "start_time": "2022-11-08T13:13:50.938773",
     "status": "completed"
    },
    "tags": []
   },
   "source": [
    "# 7. Fine Tuning"
   ]
  },
  {
   "cell_type": "code",
   "execution_count": 16,
   "id": "51684a75",
   "metadata": {
    "execution": {
     "iopub.execute_input": "2022-11-08T13:13:50.978755Z",
     "iopub.status.busy": "2022-11-08T13:13:50.978490Z",
     "iopub.status.idle": "2022-11-08T13:13:59.043288Z",
     "shell.execute_reply": "2022-11-08T13:13:59.042228Z"
    },
    "papermill": {
     "duration": 8.081038,
     "end_time": "2022-11-08T13:13:59.045768",
     "exception": false,
     "start_time": "2022-11-08T13:13:50.964730",
     "status": "completed"
    },
    "tags": []
   },
   "outputs": [
    {
     "name": "stdout",
     "output_type": "stream",
     "text": [
      "1600\n"
     ]
    },
    {
     "data": {
      "image/png": "[encoded data removed]",
      "text/plain": [
       "<Figure size 432x288 with 1 Axes>"
      ]
     },
     "metadata": {
      "needs_background": "light"
     },
     "output_type": "display_data"
    }
   ],
   "source": [
    "data_tuning = np.load(\"../input/data-tuning-2/data_tuning_2.npy\", allow_pickle = True)\n",
    "plt.hist(data_tuning[1], bins = 20)\n",
    "print(len(data_tuning[0]))"
   ]
  },
  {
   "cell_type": "code",
   "execution_count": 17,
   "id": "14571815",
   "metadata": {
    "execution": {
     "iopub.execute_input": "2022-11-08T13:13:59.075096Z",
     "iopub.status.busy": "2022-11-08T13:13:59.074775Z",
     "iopub.status.idle": "2022-11-08T13:13:59.090639Z",
     "shell.execute_reply": "2022-11-08T13:13:59.089746Z"
    },
    "papermill": {
     "duration": 0.032559,
     "end_time": "2022-11-08T13:13:59.092846",
     "exception": false,
     "start_time": "2022-11-08T13:13:59.060287",
     "status": "completed"
    },
    "tags": []
   },
   "outputs": [],
   "source": [
    "Adagrad  = optimizers.Adagrad (learning_rate = 1e-5)\n",
    "SGD      = optimizers.SGD     (learning_rate = 1e-5)\n",
    "RMSprop  = optimizers.RMSprop (learning_rate = 1e-5)\n",
    "Adadelta = optimizers.Adadelta(learning_rate = 1e-5)\n",
    "Adam     = optimizers.Adam    (learning_rate = 1e-5)\n",
    "Adamax   = optimizers.Adamax  (learning_rate = 1e-5)"
   ]
  },
  {
   "cell_type": "code",
   "execution_count": 18,
   "id": "20a32ec0",
   "metadata": {
    "execution": {
     "iopub.execute_input": "2022-11-08T13:13:59.119855Z",
     "iopub.status.busy": "2022-11-08T13:13:59.119536Z",
     "iopub.status.idle": "2022-11-08T13:13:59.124202Z",
     "shell.execute_reply": "2022-11-08T13:13:59.123280Z"
    },
    "papermill": {
     "duration": 0.020793,
     "end_time": "2022-11-08T13:13:59.126349",
     "exception": false,
     "start_time": "2022-11-08T13:13:59.105556",
     "status": "completed"
    },
    "tags": []
   },
   "outputs": [],
   "source": [
    "optimizers  = [ Adagrad, SGD, RMSprop, Adadelta, Adam, Adamax]\n",
    "\n",
    "name_op     = ['Adagrad', 'SGD', 'RMSprop', 'Adadelta', 'Adam', 'Adamax']\n",
    "activations = ['elu', 'relu', 'tanh']"
   ]
  },
  {
   "cell_type": "markdown",
   "id": "0bc3aa3a",
   "metadata": {
    "papermill": {
     "duration": 0.013383,
     "end_time": "2022-11-08T13:13:59.152307",
     "exception": false,
     "start_time": "2022-11-08T13:13:59.138924",
     "status": "completed"
    },
    "tags": []
   },
   "source": [
    "## 7.1 FT NVIDIA model"
   ]
  },
  {
   "cell_type": "code",
   "execution_count": 19,
   "id": "1c38a87f",
   "metadata": {
    "execution": {
     "iopub.execute_input": "2022-11-08T13:13:59.180093Z",
     "iopub.status.busy": "2022-11-08T13:13:59.179823Z"
    },
    "papermill": {
     "duration": null,
     "end_time": null,
     "exception": false,
     "start_time": "2022-11-08T13:13:59.165707",
     "status": "running"
    },
    "scrolled": true,
    "tags": []
   },
   "outputs": [
    {
     "name": "stdout",
     "output_type": "stream",
     "text": [
      "Count: 1\n",
      "Optimizer:  <keras.optimizer_v2.adagrad.Adagrad object at 0x7f18680d5b50> Activation: elu\n"
     ]
    },
    {
     "name": "stderr",
     "output_type": "stream",
     "text": [
      "2022-11-08 13:13:59.324616: I tensorflow/stream_executor/cuda/cuda_gpu_executor.cc:937] successful NUMA node read from SysFS had negative value (-1), but there must be at least one NUMA node, so returning NUMA node zero\n",
      "2022-11-08 13:13:59.325631: I tensorflow/stream_executor/cuda/cuda_gpu_executor.cc:937] successful NUMA node read from SysFS had negative value (-1), but there must be at least one NUMA node, so returning NUMA node zero\n",
      "2022-11-08 13:13:59.502592: I tensorflow/stream_executor/cuda/cuda_gpu_executor.cc:937] successful NUMA node read from SysFS had negative value (-1), but there must be at least one NUMA node, so returning NUMA node zero\n",
      "2022-11-08 13:13:59.503636: I tensorflow/stream_executor/cuda/cuda_gpu_executor.cc:937] successful NUMA node read from SysFS had negative value (-1), but there must be at least one NUMA node, so returning NUMA node zero\n",
      "2022-11-08 13:13:59.504490: I tensorflow/stream_executor/cuda/cuda_gpu_executor.cc:937] successful NUMA node read from SysFS had negative value (-1), but there must be at least one NUMA node, so returning NUMA node zero\n",
      "2022-11-08 13:13:59.505304: I tensorflow/stream_executor/cuda/cuda_gpu_executor.cc:937] successful NUMA node read from S"
     ]
    },
    {
     "name": "stderr",
     "output_type": "stream",
     "text": [
      "ysFS had negative value (-1), but there must be at least one NUMA node, so returning NUMA node zero\n",
      "2022-11-08 13:13:59.507735: I tensorflow/core/platform/cpu_feature_guard.cc:142] This TensorFlow binary is optimized with oneAPI Deep Neural Network Library (oneDNN) to use the following CPU instructions in performance-critical operations:  AVX2 AVX512F FMA\n",
      "To enable them in other operations, rebuild TensorFlow with the appropriate compiler flags.\n",
      "2022-11-08 13:13:59.775388: I tensorflow/stream_executor/cuda/cuda_gpu_executor.cc:937] successful NUMA node read from SysFS had negative value (-1), but there must be at least one NUMA node, so returning NUMA node zero\n",
      "2022-11-08 13:13:59.776625: I tensorflow/stream_executor/cuda/cuda_gpu_executor.cc:937] successful NUMA node read from SysFS had negative value (-1), but there must be at least one NUMA node, so returning NUMA node zero\n",
      "2022-11-08 13:13:59.777517: I tensorflow/stream_executor/cuda/cuda_gpu_executor.cc:937] successful NUMA node read from SysFS had negative value (-1), but there must be at least one NUMA node, so returning NUMA node zero\n",
      "2022-11-08 13:13:59.778342: I tensorflow/stream_executor/cuda/cuda_gpu_executor.cc:937] successful NUMA node read from SysFS had negative value (-1), but there must be at least one NUMA node, so returning NUMA node zero\n",
      "2022-11-08 13:13:59.779126: I tensorflow/stream_executor/cuda/cuda_gpu_executor.cc:937] successful NUMA node read from SysFS had negative value (-1), but there must be at least one NUMA node, so returning NUMA node zero\n",
      "2022-11-08 13:13:59.779896: I tensorflow/stream_executor/cuda/cuda_gpu_executor.cc:937] successful NUMA node read from SysFS had negative value (-1), but there must be at least one NUMA node, so returning NUMA node zero\n",
      "2022-11-08 13:14:03.144221: I tensorflow/stream_executor/cuda/cuda_gpu_executor.cc:937] successful NUMA node read from SysFS had negative value (-1), but there must be at least one NUMA node, so returning NUMA node zero\n",
      "2022-11-08 13:14:03.145049: I tensorflow/stream_executor/cuda/cuda_gpu_executor.cc:937] successful NUMA node read from SysFS had negative value (-1), but there must be at least one NUMA node, so returning NUMA node zero\n",
      "2022-11-08 13:14:03.145850: I tensorflow/stream_executor/cuda/cuda_gpu_executor.cc:937] successful NUMA node read from SysFS had negative value (-1), but there must be at least one NUMA node, so returning NUMA node zero\n",
      "2022-11-08 13:14:03.146647: I tensorflow/stream_executor/cuda/cuda_gpu_executor.cc:937] successful NUMA node read from SysFS had negative value (-1), but there must be at least one NUMA node, so returning NUMA node zero\n",
      "2022-11-08 13:14:03.147545: I tensorflow/stream_executor/cuda/cuda_gpu_executor.cc:937] successful NUMA node read from SysFS had negative value (-1), but there must be at least one NUMA node, so returning NUMA node zero\n",
      "2022-11-08 13:14:03.148316: I tensorflow/core/common_runtime/gpu/gpu_device.cc:1510] Created device /job:localhost/replica:0/task:0/device:GPU:0 with 13789 MB memory:  -> device: 0, name: Tesla T4, pci bus id: 0000:00:04.0, compute capability: 7.5\n",
      "2022-11-08 13:14:03.152092: I tensorflow/stream_executor/cuda/cuda_gpu_executor.cc:937] successful NUMA node read from SysFS had negative value (-1), but there must be at least one NUMA node, so returning NUMA node zero\n",
      "2022-11-08 13:14:03.152825: I tensorflow/core/common_runtime/gpu/gpu_device.cc:1510] Created device /job:localhost/replica:0/task:0/device:GPU:1 with 13789 MB memory:  -> device: 1, name: Tesla T4, pci bus id: 0000:00:05.0, compute capability: 7.5\n"
     ]
    },
    {
     "name": "stderr",
     "output_type": "stream",
     "text": [
      "2022-11-08 13:14:03.753918: W tensorflow/core/framework/cpu_allocator_impl.cc:80] Allocation of 983040000 exceeds 10% of free system memory.\n",
      "2022-11-08 13:14:04.885886: W tensorflow/core/framework/cpu_allocator_impl.cc:80] Allocation of 983040000 exceeds 10% of free system memory.\n"
     ]
    },
    {
     "name": "stderr",
     "output_type": "stream",
     "text": [
      "2022-11-08 13:14:05.712726: I tensorflow/compiler/mlir/mlir_graph_optimization_pass.cc:185] None of the MLIR Optimization Passes are enabled (registered 2)\n"
     ]
    },
    {
     "name": "stderr",
     "output_type": "stream",
     "text": [
      "2022-11-08 13:14:08.648322: I tensorflow/stream_executor/cuda/cuda_dnn.cc:369] Loaded cuDNN version 8005\n"
     ]
    },
    {
     "name": "stdout",
     "output_type": "stream",
     "text": [
      "\n",
      "Epoch 00001: val_loss improved from inf to 0.08226, saving model to checkpoint_tuning_nvidia.h5\n"
     ]
    },
    {
     "name": "stdout",
     "output_type": "stream",
     "text": [
      "\n",
      "Epoch 00002: val_loss did not improve from 0.08226\n"
     ]
    },
    {
     "name": "stdout",
     "output_type": "stream",
     "text": [
      "\n",
      "Epoch 00003: val_loss did not improve from 0.08226\n"
     ]
    },
    {
     "name": "stdout",
     "output_type": "stream",
     "text": [
      "\n",
      "Epoch 00004: val_loss did not improve from 0.08226\n"
     ]
    },
    {
     "name": "stdout",
     "output_type": "stream",
     "text": [
      "\n",
      "Epoch 00005: val_loss did not improve from 0.08226\n"
     ]
    },
    {
     "name": "stdout",
     "output_type": "stream",
     "text": [
      "\n",
      "Epoch 00006: val_loss did not improve from 0.08226\n"
     ]
    },
    {
     "name": "stdout",
     "output_type": "stream",
     "text": [
      "\n",
      "Epoch 00007: val_loss did not improve from 0.08226\n"
     ]
    },
    {
     "name": "stdout",
     "output_type": "stream",
     "text": [
      "\n",
      "Epoch 00008: val_loss did not improve from 0.08226\n"
     ]
    },
    {
     "name": "stdout",
     "output_type": "stream",
     "text": [
      "\n",
      "Epoch 00009: val_loss did not improve from 0.08226\n"
     ]
    },
    {
     "name": "stdout",
     "output_type": "stream",
     "text": [
      "\n",
      "Epoch 00010: val_loss did not improve from 0.08226\n"
     ]
    },
    {
     "name": "stdout",
     "output_type": "stream",
     "text": [
      "\n",
      "Epoch 00011: val_loss did not improve from 0.08226\n"
     ]
    },
    {
     "name": "stdout",
     "output_type": "stream",
     "text": [
      "\n",
      "Epoch 00012: val_loss did not improve from 0.08226\n"
     ]
    },
    {
     "name": "stdout",
     "output_type": "stream",
     "text": [
      "\n",
      "Epoch 00013: val_loss did not improve from 0.08226\n"
     ]
    },
    {
     "name": "stdout",
     "output_type": "stream",
     "text": [
      "\n",
      "Epoch 00014: val_loss did not improve from 0.08226\n"
     ]
    },
    {
     "name": "stdout",
     "output_type": "stream",
     "text": [
      "\n",
      "Epoch 00015: val_loss did not improve from 0.08226\n"
     ]
    },
    {
     "name": "stdout",
     "output_type": "stream",
     "text": [
      "\n",
      "Epoch 00016: val_loss did not improve from 0.08226\n"
     ]
    },
    {
     "name": "stdout",
     "output_type": "stream",
     "text": [
      "\n",
      "Epoch 00017: val_loss did not improve from 0.08226\n"
     ]
    },
    {
     "name": "stdout",
     "output_type": "stream",
     "text": [
      "\n",
      "Epoch 00018: val_loss did not improve from 0.08226\n"
     ]
    },
    {
     "name": "stdout",
     "output_type": "stream",
     "text": [
      "\n",
      "Epoch 00019: val_loss did not improve from 0.08226\n"
     ]
    },
    {
     "name": "stdout",
     "output_type": "stream",
     "text": [
      "\n",
      "Epoch 00020: val_loss did not improve from 0.08226\n"
     ]
    },
    {
     "name": "stdout",
     "output_type": "stream",
     "text": [
      "\n",
      "Epoch 00021: val_loss did not improve from 0.08226\n"
     ]
    },
    {
     "name": "stdout",
     "output_type": "stream",
     "text": [
      "\n",
      "Epoch 00022: val_loss did not improve from 0.08226\n"
     ]
    },
    {
     "name": "stdout",
     "output_type": "stream",
     "text": [
      "\n",
      "Epoch 00023: val_loss did not improve from 0.08226\n"
     ]
    },
    {
     "name": "stdout",
     "output_type": "stream",
     "text": [
      "\n",
      "Epoch 00024: val_loss did not improve from 0.08226\n"
     ]
    },
    {
     "name": "stdout",
     "output_type": "stream",
     "text": [
      "\n",
      "Epoch 00025: val_loss did not improve from 0.08226\n"
     ]
    },
    {
     "name": "stdout",
     "output_type": "stream",
     "text": [
      "\n",
      "Epoch 00026: val_loss did not improve from 0.08226\n"
     ]
    },
    {
     "name": "stdout",
     "output_type": "stream",
     "text": [
      "\n",
      "Epoch 00027: val_loss did not improve from 0.08226\n"
     ]
    },
    {
     "name": "stdout",
     "output_type": "stream",
     "text": [
      "\n",
      "Epoch 00028: val_loss did not improve from 0.08226\n"
     ]
    },
    {
     "name": "stdout",
     "output_type": "stream",
     "text": [
      "\n",
      "Epoch 00029: val_loss did not improve from 0.08226\n"
     ]
    },
    {
     "name": "stdout",
     "output_type": "stream",
     "text": [
      "\n",
      "Epoch 00030: val_loss did not improve from 0.08226\n"
     ]
    },
    {
     "name": "stdout",
     "output_type": "stream",
     "text": [
      "\n",
      "Epoch 00031: val_loss did not improve from 0.08226\n"
     ]
    },
    {
     "name": "stdout",
     "output_type": "stream",
     "text": [
      "\n",
      "Epoch 00032: val_loss did not improve from 0.08226\n"
     ]
    },
    {
     "name": "stdout",
     "output_type": "stream",
     "text": [
      "\n",
      "Epoch 00033: val_loss did not improve from 0.08226\n"
     ]
    },
    {
     "name": "stdout",
     "output_type": "stream",
     "text": [
      "\n",
      "Epoch 00034: val_loss did not improve from 0.08226\n"
     ]
    },
    {
     "name": "stdout",
     "output_type": "stream",
     "text": [
      "\n",
      "Epoch 00035: val_loss did not improve from 0.08226\n"
     ]
    },
    {
     "name": "stdout",
     "output_type": "stream",
     "text": [
      "\n",
      "Epoch 00036: val_loss did not improve from 0.08226\n"
     ]
    },
    {
     "name": "stdout",
     "output_type": "stream",
     "text": [
      "\n",
      "Epoch 00037: val_loss did not improve from 0.08226\n"
     ]
    },
    {
     "name": "stdout",
     "output_type": "stream",
     "text": [
      "\n",
      "Epoch 00038: val_loss did not improve from 0.08226\n"
     ]
    },
    {
     "name": "stdout",
     "output_type": "stream",
     "text": [
      "\n",
      "Epoch 00039: val_loss did not improve from 0.08226\n"
     ]
    },
    {
     "name": "stdout",
     "output_type": "stream",
     "text": [
      "\n",
      "Epoch 00040: val_loss did not improve from 0.08226\n"
     ]
    },
    {
     "name": "stdout",
     "output_type": "stream",
     "text": [
      "\n",
      "Epoch 00041: val_loss did not improve from 0.08226\n"
     ]
    },
    {
     "name": "stdout",
     "output_type": "stream",
     "text": [
      "\n",
      "Epoch 00042: val_loss did not improve from 0.08226\n"
     ]
    },
    {
     "name": "stdout",
     "output_type": "stream",
     "text": [
      "\n",
      "Epoch 00043: val_loss did not improve from 0.08226\n"
     ]
    },
    {
     "name": "stdout",
     "output_type": "stream",
     "text": [
      "\n",
      "Epoch 00044: val_loss did not improve from 0.08226\n"
     ]
    },
    {
     "name": "stdout",
     "output_type": "stream",
     "text": [
      "\n",
      "Epoch 00045: val_loss did not improve from 0.08226\n"
     ]
    },
    {
     "name": "stdout",
     "output_type": "stream",
     "text": [
      "\n",
      "Epoch 00046: val_loss did not improve from 0.08226\n"
     ]
    },
    {
     "name": "stdout",
     "output_type": "stream",
     "text": [
      "\n",
      "Epoch 00047: val_loss did not improve from 0.08226\n"
     ]
    },
    {
     "name": "stdout",
     "output_type": "stream",
     "text": [
      "\n",
      "Epoch 00048: val_loss did not improve from 0.08226\n"
     ]
    },
    {
     "name": "stdout",
     "output_type": "stream",
     "text": [
      "\n",
      "Epoch 00049: val_loss did not improve from 0.08226\n"
     ]
    }
   ],
   "source": [
    "op            = []\n",
    "count         = 0\n",
    "batch_size    = 32\n",
    "\n",
    "for i in optimizers:\n",
    "    ac = []\n",
    "    for j in activations:  \n",
    "        count += 1\n",
    "        print('Count:', count)\n",
    "        print(\"Optimizer: \",i,\"Activation:\",j)\n",
    "        model = nvidia_model(optimizer = i, activation = j)\n",
    "        checkpoint_tuning_nvidia = ModelCheckpoint('checkpoint_tuning_nvidia.h5',  \n",
    "                                                      verbose = 1,                                \n",
    "                                                      mode    = 'auto',\n",
    "                                                      monitor = 'val_loss',  \n",
    "                                                      save_best_only = True)\n",
    "        \n",
    "        history = model.fit(x = data_tuning[0],  y = data_tuning[1], \n",
    "                            validation_data  = (data_tuning[2], data_tuning[3]),\n",
    "                            steps_per_epoch  = len(data_tuning[0]) // batch_size,\n",
    "                            epochs     = 100  , \n",
    "                            verbose    = 0   ,\n",
    "                            callbacks  = [checkpoint_tuning_nvidia])\n",
    "        m = min(history.history[\"val_loss\"])\n",
    "        print(m)\n",
    "        ac.append(m)\n",
    "    ac.append(activations[np.argmin(ac)])\n",
    "    op.append(ac)"
   ]
  },
  {
   "cell_type": "code",
   "execution_count": null,
   "id": "ea3bf447",
   "metadata": {
    "papermill": {
     "duration": null,
     "end_time": null,
     "exception": null,
     "start_time": null,
     "status": "pending"
    },
    "scrolled": true,
    "tags": []
   },
   "outputs": [],
   "source": [
    "table_nvidia = pd.DataFrame(np.array(op).T, columns = [ 'Adagrad', 'SGD', 'RMSprop', 'Adadelta', 'Adam', 'Adamax'])\n",
    "d = []\n",
    "for i in table_nvidia.values:\n",
    "    d.append(name_op[i.argmin()])\n",
    "d[-1] = 1\n",
    "table_nvidia[\"Best Choice\"] = d\n",
    "table_nvidia.to_csv('Finetuning_nvidia.csv', index=False)\n",
    "data_test_nvidia = pd.read_csv('Finetuning_nvidia.csv')\n",
    "data_test_nvidia "
   ]
  },
  {
   "cell_type": "markdown",
   "id": "58f0b3d1",
   "metadata": {
    "papermill": {
     "duration": null,
     "end_time": null,
     "exception": null,
     "start_time": null,
     "status": "pending"
    },
    "tags": []
   },
   "source": [
    "## 7.2 FT ResNet50 model"
   ]
  },
  {
   "cell_type": "code",
   "execution_count": null,
   "id": "63263b24",
   "metadata": {
    "papermill": {
     "duration": null,
     "end_time": null,
     "exception": null,
     "start_time": null,
     "status": "pending"
    },
    "scrolled": true,
    "tags": []
   },
   "outputs": [],
   "source": [
    "op            = []\n",
    "count         = 0\n",
    "batch_size    = 32\n",
    "\n",
    "for i in optimizers:\n",
    "    ac = []\n",
    "    for j in activations:  \n",
    "        count += 1\n",
    "        print('Count:', count)\n",
    "        print(\"Optimizer: \",i,\"Activation:\",j)\n",
    "        model = resnet50_model(optimizer = i, activation = j)\n",
    "        checkpoint_tuning_nvidia = ModelCheckpoint('checkpoint_tuning_resnet50.h5',  \n",
    "                                                      verbose = 1,                                \n",
    "                                                      mode    = 'auto',\n",
    "                                                      monitor = 'val_loss',  \n",
    "                                                      save_best_only = True)\n",
    "        \n",
    "        history = model.fit(x = data_tuning[0],  y = data_tuning[1], \n",
    "                            validation_data  = (data_tuning[2], data_tuning[3]),\n",
    "                            steps_per_epoch  = len(data_tuning[0]) // batch_size,\n",
    "                            epochs     = 100  , \n",
    "                            verbose    = 0   ,\n",
    "                            callbacks  = [checkpoint_tuning_nvidia])\n",
    "        m = min(history.history[\"val_loss\"])\n",
    "        print(m)\n",
    "        ac.append(m)\n",
    "    ac.append(activations[np.argmin(ac)])\n",
    "    op.append(ac)"
   ]
  },
  {
   "cell_type": "code",
   "execution_count": null,
   "id": "04983aff",
   "metadata": {
    "papermill": {
     "duration": null,
     "end_time": null,
     "exception": null,
     "start_time": null,
     "status": "pending"
    },
    "tags": []
   },
   "outputs": [],
   "source": [
    "table_resnet50 = pd.DataFrame(np.array(op).T, columns = [ 'Adagrad', 'SGD', 'RMSprop', 'Adadelta', 'Adam', 'Adamax'])\n",
    "d = []\n",
    "for i in table_resnet50.values:\n",
    "    d.append(name_op[i.argmin()])\n",
    "d[-1] = 1\n",
    "table_resnet50[\"Best Choice\"] = d\n",
    "table_resnet50.to_csv('Finetuning_resnet50.csv', index=False)\n",
    "data_test_resnet50 = pd.read_csv('Finetuning_resnet50.csv')\n",
    "data_test_resnet50 "
   ]
  },
  {
   "cell_type": "markdown",
   "id": "bb9dd483",
   "metadata": {
    "papermill": {
     "duration": null,
     "end_time": null,
     "exception": null,
     "start_time": null,
     "status": "pending"
    },
    "tags": []
   },
   "source": [
    "## 7.3 FT Inception V3 model"
   ]
  },
  {
   "cell_type": "code",
   "execution_count": null,
   "id": "fca96747",
   "metadata": {
    "papermill": {
     "duration": null,
     "end_time": null,
     "exception": null,
     "start_time": null,
     "status": "pending"
    },
    "scrolled": true,
    "tags": []
   },
   "outputs": [],
   "source": [
    "op            = []\n",
    "count         = 0\n",
    "batch_size    = 32\n",
    "\n",
    "for i in optimizers:\n",
    "    ac = []\n",
    "    for j in activations:  \n",
    "        count += 1\n",
    "        print('Count:', count)\n",
    "        print(\"Optimizer: \",i,\"Activation:\",j)\n",
    "        model = inceptionv3_model(optimizer = i, activation = j)\n",
    "        checkpoint_tuning_nvidia = ModelCheckpoint('checkpoint_tuning_inceptionv3.h5',  \n",
    "                                                      verbose = 1,                                \n",
    "                                                      mode    = 'auto',\n",
    "                                                      monitor = 'val_loss',  \n",
    "                                                      save_best_only = True)\n",
    "        \n",
    "        history = model.fit(x = data_tuning[0],  y = data_tuning[1], \n",
    "                            validation_data  = (data_tuning[2], data_tuning[3]),\n",
    "                            steps_per_epoch  = len(data_tuning[0]) // batch_size,\n",
    "                            epochs     = 100  , \n",
    "                            verbose    = 0   ,\n",
    "                            callbacks  = [checkpoint_tuning_nvidia])\n",
    "        m = min(history.history[\"val_loss\"])\n",
    "        print(m)\n",
    "        ac.append(m)\n",
    "    ac.append(activations[np.argmin(ac)])\n",
    "    op.append(ac)"
   ]
  },
  {
   "cell_type": "code",
   "execution_count": null,
   "id": "d09e674e",
   "metadata": {
    "papermill": {
     "duration": null,
     "end_time": null,
     "exception": null,
     "start_time": null,
     "status": "pending"
    },
    "tags": []
   },
   "outputs": [],
   "source": [
    "table_inceptionv3 = pd.DataFrame(np.array(op).T, columns = ['RMSprop', 'Adam'])\n",
    "d = []\n",
    "for i in table_inceptionv3.values:\n",
    "    d.append(name_op[i.argmin()])\n",
    "d[-1] = 1\n",
    "table_inceptionv3[\"Best Choice\"] = d\n",
    "table_inceptionv3.to_csv('Finetuning_inceptionv3.csv', index=False)\n",
    "data_test_inceptionv3 = pd.read_csv('Finetuning_inceptionv3.csv')\n",
    "data_test_inceptionv3"
   ]
  },
  {
   "cell_type": "markdown",
   "id": "7048dc78",
   "metadata": {
    "papermill": {
     "duration": null,
     "end_time": null,
     "exception": null,
     "start_time": null,
     "status": "pending"
    },
    "tags": []
   },
   "source": [
    "## 7.4 FT Results"
   ]
  },
  {
   "cell_type": "markdown",
   "id": "8a8651ac",
   "metadata": {
    "papermill": {
     "duration": null,
     "end_time": null,
     "exception": null,
     "start_time": null,
     "status": "pending"
    },
    "tags": []
   },
   "source": [
    "### 7.4.1 FT NVIDIA model results"
   ]
  },
  {
   "cell_type": "code",
   "execution_count": null,
   "id": "5d16ab3c",
   "metadata": {
    "execution": {
     "iopub.execute_input": "2022-11-08T11:40:14.702708Z",
     "iopub.status.busy": "2022-11-08T11:40:14.701525Z",
     "iopub.status.idle": "2022-11-08T11:40:14.729534Z",
     "shell.execute_reply": "2022-11-08T11:40:14.728587Z",
     "shell.execute_reply.started": "2022-11-08T11:40:14.702628Z"
    },
    "papermill": {
     "duration": null,
     "end_time": null,
     "exception": null,
     "start_time": null,
     "status": "pending"
    },
    "tags": []
   },
   "outputs": [],
   "source": [
    "data_test_nvidia = pd.read_csv('../input/results-finetuning/FT Results/Finetuning_nvidia.csv')\n",
    "data_test_nvidia "
   ]
  },
  {
   "cell_type": "code",
   "execution_count": null,
   "id": "174a5ac3",
   "metadata": {
    "execution": {
     "iopub.execute_input": "2022-11-08T11:40:17.072739Z",
     "iopub.status.busy": "2022-11-08T11:40:17.071806Z",
     "iopub.status.idle": "2022-11-08T11:40:17.090457Z",
     "shell.execute_reply": "2022-11-08T11:40:17.089523Z",
     "shell.execute_reply.started": "2022-11-08T11:40:17.072692Z"
    },
    "papermill": {
     "duration": null,
     "end_time": null,
     "exception": null,
     "start_time": null,
     "status": "pending"
    },
    "tags": []
   },
   "outputs": [],
   "source": [
    "data_test_nvidia_sub = pd.read_csv('../input/results-finetuning/FT Results/Finetuning_nvidia_sub.csv')\n",
    "data_test_nvidia_sub"
   ]
  },
  {
   "cell_type": "markdown",
   "id": "4f8131ef",
   "metadata": {
    "papermill": {
     "duration": null,
     "end_time": null,
     "exception": null,
     "start_time": null,
     "status": "pending"
    },
    "tags": []
   },
   "source": [
    "#### Choose **ADAM** and **RELU** for NVIDIA model"
   ]
  },
  {
   "cell_type": "markdown",
   "id": "c55b0dfb",
   "metadata": {
    "papermill": {
     "duration": null,
     "end_time": null,
     "exception": null,
     "start_time": null,
     "status": "pending"
    },
    "tags": []
   },
   "source": [
    "### 7.4.2 FT ResNet50 model results"
   ]
  },
  {
   "cell_type": "code",
   "execution_count": null,
   "id": "047047f4",
   "metadata": {
    "execution": {
     "iopub.execute_input": "2022-11-08T11:40:19.399768Z",
     "iopub.status.busy": "2022-11-08T11:40:19.399226Z",
     "iopub.status.idle": "2022-11-08T11:40:19.420671Z",
     "shell.execute_reply": "2022-11-08T11:40:19.419663Z",
     "shell.execute_reply.started": "2022-11-08T11:40:19.399732Z"
    },
    "papermill": {
     "duration": null,
     "end_time": null,
     "exception": null,
     "start_time": null,
     "status": "pending"
    },
    "tags": []
   },
   "outputs": [],
   "source": [
    "data_test_resnet50 = pd.read_csv('../input/results-finetuning/FT Results/Finetuning_resnet50.csv')\n",
    "data_test_resnet50 "
   ]
  },
  {
   "cell_type": "code",
   "execution_count": null,
   "id": "703c3471",
   "metadata": {
    "execution": {
     "iopub.execute_input": "2022-11-08T11:40:21.524989Z",
     "iopub.status.busy": "2022-11-08T11:40:21.524336Z",
     "iopub.status.idle": "2022-11-08T11:40:21.553304Z",
     "shell.execute_reply": "2022-11-08T11:40:21.552292Z",
     "shell.execute_reply.started": "2022-11-08T11:40:21.524940Z"
    },
    "papermill": {
     "duration": null,
     "end_time": null,
     "exception": null,
     "start_time": null,
     "status": "pending"
    },
    "tags": []
   },
   "outputs": [],
   "source": [
    "data_test_resnet50_sub = pd.read_csv('../input/results-finetuning/FT Results/Finetuning_resnet50_sub.csv')\n",
    "data_test_resnet50_sub "
   ]
  },
  {
   "cell_type": "markdown",
   "id": "3173cdc1",
   "metadata": {
    "papermill": {
     "duration": null,
     "end_time": null,
     "exception": null,
     "start_time": null,
     "status": "pending"
    },
    "tags": []
   },
   "source": [
    "#### Choose **SGD** and **ELU** for ResNet50 model"
   ]
  },
  {
   "cell_type": "markdown",
   "id": "5c2b614a",
   "metadata": {
    "papermill": {
     "duration": null,
     "end_time": null,
     "exception": null,
     "start_time": null,
     "status": "pending"
    },
    "tags": []
   },
   "source": [
    "### 7.4.3 FT Inception V3 model results"
   ]
  },
  {
   "cell_type": "code",
   "execution_count": null,
   "id": "7529f1d4",
   "metadata": {
    "execution": {
     "iopub.execute_input": "2022-11-08T11:40:23.669884Z",
     "iopub.status.busy": "2022-11-08T11:40:23.668849Z",
     "iopub.status.idle": "2022-11-08T11:40:23.690321Z",
     "shell.execute_reply": "2022-11-08T11:40:23.689386Z",
     "shell.execute_reply.started": "2022-11-08T11:40:23.669846Z"
    },
    "papermill": {
     "duration": null,
     "end_time": null,
     "exception": null,
     "start_time": null,
     "status": "pending"
    },
    "tags": []
   },
   "outputs": [],
   "source": [
    "data_test_inceptionv3 = pd.read_csv('../input/results-finetuning/FT Results/Finetuning_inceptionv3.csv')\n",
    "data_test_inceptionv3 "
   ]
  },
  {
   "cell_type": "code",
   "execution_count": null,
   "id": "7f7483ae",
   "metadata": {
    "execution": {
     "iopub.execute_input": "2022-11-08T11:40:25.603312Z",
     "iopub.status.busy": "2022-11-08T11:40:25.602505Z",
     "iopub.status.idle": "2022-11-08T11:40:25.621301Z",
     "shell.execute_reply": "2022-11-08T11:40:25.620328Z",
     "shell.execute_reply.started": "2022-11-08T11:40:25.603274Z"
    },
    "papermill": {
     "duration": null,
     "end_time": null,
     "exception": null,
     "start_time": null,
     "status": "pending"
    },
    "tags": []
   },
   "outputs": [],
   "source": [
    "data_test_inceptionv3_sub = pd.read_csv('../input/results-finetuning/FT Results/Finetuning_inceptionv3_sub.csv')\n",
    "data_test_inceptionv3_sub"
   ]
  },
  {
   "cell_type": "markdown",
   "id": "e7ccd036",
   "metadata": {
    "papermill": {
     "duration": null,
     "end_time": null,
     "exception": null,
     "start_time": null,
     "status": "pending"
    },
    "tags": []
   },
   "source": [
    "#### Choose **RMSPROP** and **ELU** for Inception v3 model"
   ]
  },
  {
   "cell_type": "markdown",
   "id": "e6fbc852",
   "metadata": {
    "papermill": {
     "duration": null,
     "end_time": null,
     "exception": null,
     "start_time": null,
     "status": "pending"
    },
    "tags": []
   },
   "source": [
    "# 8. Training"
   ]
  },
  {
   "cell_type": "markdown",
   "id": "2aa47f2f",
   "metadata": {
    "papermill": {
     "duration": null,
     "end_time": null,
     "exception": null,
     "start_time": null,
     "status": "pending"
    },
    "tags": []
   },
   "source": [
    "## 8.1 Training NVIDIA model"
   ]
  },
  {
   "cell_type": "code",
   "execution_count": null,
   "id": "0700bf93",
   "metadata": {
    "papermill": {
     "duration": null,
     "end_time": null,
     "exception": null,
     "start_time": null,
     "status": "pending"
    },
    "tags": []
   },
   "outputs": [],
   "source": [
    "checkpoint_nvidia = ModelCheckpoint('checkpoint_nvidia.h5',  \n",
    "                                      verbose = 1,                                \n",
    "                                      mode    = 'auto',\n",
    "                                      monitor = 'val_loss',  \n",
    "                                      save_best_only = True)\n",
    "\n",
    "model = nvidia_model(optimizer = Adam, activation = 'relu')"
   ]
  },
  {
   "cell_type": "code",
   "execution_count": null,
   "id": "f359bb45",
   "metadata": {
    "papermill": {
     "duration": null,
     "end_time": null,
     "exception": null,
     "start_time": null,
     "status": "pending"
    },
    "scrolled": true,
    "tags": []
   },
   "outputs": [],
   "source": [
    "history = model.fit(  train_generator, \n",
    "                      validation_data  = validation_generator,\n",
    "                      steps_per_epoch  = len(train_samples)      // batch_size,\n",
    "                      validation_steps = len(validation_samples) // batch_size,\n",
    "                      epochs     = 200 , \n",
    "                      verbose    = 1   ,\n",
    "                      callbacks  = [checkpoint_nvidia])"
   ]
  },
  {
   "cell_type": "code",
   "execution_count": null,
   "id": "c5d6d0ab",
   "metadata": {
    "papermill": {
     "duration": null,
     "end_time": null,
     "exception": null,
     "start_time": null,
     "status": "pending"
    },
    "tags": []
   },
   "outputs": [],
   "source": [
    "history_loss = [history.history['loss'], history.history['val_loss']]\n",
    "np.save(\"history loss nvidia.npy\", history_loss)"
   ]
  },
  {
   "cell_type": "markdown",
   "id": "a8e09fcc",
   "metadata": {
    "papermill": {
     "duration": null,
     "end_time": null,
     "exception": null,
     "start_time": null,
     "status": "pending"
    },
    "tags": []
   },
   "source": [
    "## 8.2 Training ResNet50 model"
   ]
  },
  {
   "cell_type": "code",
   "execution_count": null,
   "id": "d2847090",
   "metadata": {
    "papermill": {
     "duration": null,
     "end_time": null,
     "exception": null,
     "start_time": null,
     "status": "pending"
    },
    "tags": []
   },
   "outputs": [],
   "source": [
    "checkpoint_resnet50 = ModelCheckpoint('checkpoint_resnet50.h5',  \n",
    "                                      verbose = 1,                                \n",
    "                                      mode    = 'auto',\n",
    "                                      monitor = 'val_loss',  \n",
    "                                      save_best_only = True)\n",
    "\n",
    "model_1 = resnet50_model(optimizer = SGD, activation = 'elu')"
   ]
  },
  {
   "cell_type": "code",
   "execution_count": null,
   "id": "624ee943",
   "metadata": {
    "papermill": {
     "duration": null,
     "end_time": null,
     "exception": null,
     "start_time": null,
     "status": "pending"
    },
    "scrolled": true,
    "tags": []
   },
   "outputs": [],
   "source": [
    "history = model_1.fit(  train_generator, \n",
    "                      validation_data  = validation_generator,\n",
    "                      steps_per_epoch  = len(train_samples)      // batch_size,\n",
    "                      validation_steps = len(validation_samples) // batch_size,\n",
    "                      epochs     = 200 , \n",
    "                      verbose    = 1   ,\n",
    "                      callbacks  = [checkpoint_resnet50])"
   ]
  },
  {
   "cell_type": "code",
   "execution_count": null,
   "id": "fdfb0659",
   "metadata": {
    "papermill": {
     "duration": null,
     "end_time": null,
     "exception": null,
     "start_time": null,
     "status": "pending"
    },
    "tags": []
   },
   "outputs": [],
   "source": [
    "history_loss = [history.history['loss'], history.history['val_loss']]\n",
    "np.save(\"history_loss_1.npy\", history_loss)"
   ]
  },
  {
   "cell_type": "code",
   "execution_count": null,
   "id": "7c94205f",
   "metadata": {
    "papermill": {
     "duration": null,
     "end_time": null,
     "exception": null,
     "start_time": null,
     "status": "pending"
    },
    "tags": []
   },
   "outputs": [],
   "source": [
    "SGD_2   = optimizers.SGD(learning_rate = 1e-4)\n",
    "model_2 = resnet50_model(optimizer = SGD, activation = 'elu')"
   ]
  },
  {
   "cell_type": "code",
   "execution_count": null,
   "id": "302584ab",
   "metadata": {
    "papermill": {
     "duration": null,
     "end_time": null,
     "exception": null,
     "start_time": null,
     "status": "pending"
    },
    "tags": []
   },
   "outputs": [],
   "source": [
    "history_loss = [history.history['loss'], history.history['val_loss']]\n",
    "np.save(\"history_loss_2.npy\", history_loss)"
   ]
  },
  {
   "cell_type": "markdown",
   "id": "d199e1c7",
   "metadata": {
    "papermill": {
     "duration": null,
     "end_time": null,
     "exception": null,
     "start_time": null,
     "status": "pending"
    },
    "tags": []
   },
   "source": [
    "## 8.3 Training Inception V3 model"
   ]
  },
  {
   "cell_type": "code",
   "execution_count": null,
   "id": "a76cc698",
   "metadata": {
    "papermill": {
     "duration": null,
     "end_time": null,
     "exception": null,
     "start_time": null,
     "status": "pending"
    },
    "tags": []
   },
   "outputs": [],
   "source": [
    "checkpoint_inceptionv3 = ModelCheckpoint('checkpoint_inceptionv3.h5',  \n",
    "                                      verbose = 1,                                \n",
    "                                      mode    = 'auto',\n",
    "                                      monitor = 'val_loss',  \n",
    "                                      save_best_only = True)\n",
    "\n",
    "model = inceptionv3_model(optimizer = RMSprop, activation = 'elu')"
   ]
  },
  {
   "cell_type": "code",
   "execution_count": null,
   "id": "3af83f5a",
   "metadata": {
    "papermill": {
     "duration": null,
     "end_time": null,
     "exception": null,
     "start_time": null,
     "status": "pending"
    },
    "scrolled": true,
    "tags": []
   },
   "outputs": [],
   "source": [
    "history = model.fit(  train_generator, \n",
    "                      validation_data  = validation_generator,\n",
    "                      steps_per_epoch  = len(train_samples)      // batch_size,\n",
    "                      validation_steps = len(validation_samples) // batch_size,\n",
    "                      epochs     = 200 , \n",
    "                      verbose    = 1   ,\n",
    "                      callbacks  = [checkpoint_inceptionv3])"
   ]
  },
  {
   "cell_type": "code",
   "execution_count": null,
   "id": "241042e7",
   "metadata": {
    "papermill": {
     "duration": null,
     "end_time": null,
     "exception": null,
     "start_time": null,
     "status": "pending"
    },
    "tags": []
   },
   "outputs": [],
   "source": [
    "history_loss = [history.history['loss'], history.history['val_loss']]\n",
    "np.save(\"history_loss_2.npy\", history_loss)"
   ]
  },
  {
   "cell_type": "markdown",
   "id": "1686437d",
   "metadata": {
    "papermill": {
     "duration": null,
     "end_time": null,
     "exception": null,
     "start_time": null,
     "status": "pending"
    },
    "tags": []
   },
   "source": [
    "# 9. Results"
   ]
  },
  {
   "cell_type": "markdown",
   "id": "b446edd3",
   "metadata": {
    "papermill": {
     "duration": null,
     "end_time": null,
     "exception": null,
     "start_time": null,
     "status": "pending"
    },
    "tags": []
   },
   "source": [
    "## 9.1 NVIDIA model"
   ]
  },
  {
   "cell_type": "code",
   "execution_count": null,
   "id": "00644b44",
   "metadata": {
    "execution": {
     "iopub.execute_input": "2022-11-08T11:40:42.746725Z",
     "iopub.status.busy": "2022-11-08T11:40:42.745723Z",
     "iopub.status.idle": "2022-11-08T11:40:43.036584Z",
     "shell.execute_reply": "2022-11-08T11:40:43.035605Z",
     "shell.execute_reply.started": "2022-11-08T11:40:42.746687Z"
    },
    "papermill": {
     "duration": null,
     "end_time": null,
     "exception": null,
     "start_time": null,
     "status": "pending"
    },
    "tags": []
   },
   "outputs": [],
   "source": [
    "data_test_nvidia = np.load(\"../input/data-test/Data Test/data_test_nvidia.npy\", allow_pickle = True)\n",
    "history_loss_nvidia = np.load(\"../input/model-nividia/NVIDIA/history loss nvidia.npy\", allow_pickle = True)\n",
    "\n",
    "y_test_nvidia = data_test_nvidia[0]\n",
    "y_pred_nvidia = data_test_nvidia[1]\n",
    "\n",
    "train_loss_nvidia = min(history_loss_nvidia[0])\n",
    "vali_loss_nvidia  = min(history_loss_nvidia[1])\n",
    "test_loss_nvidia  = mean_squared_error(y_test_nvidia, y_pred_nvidia)\n",
    "\n",
    "fig1 = plt.figure(figsize = (9,5.8))\n",
    "plt.plot(history_loss_nvidia[0], color = 'red')\n",
    "x = [0, 200]\n",
    "y = [train_loss_nvidia, train_loss_nvidia]\n",
    "plt.plot(x,y, color = 'red')\n",
    "\n",
    "plt.plot(history_loss_nvidia[1], color = 'green')\n",
    "y = [vali_loss_nvidia, vali_loss_nvidia]\n",
    "plt.plot(x,y, color = 'green')\n",
    "y = [test_loss_nvidia, test_loss_nvidia]\n",
    "plt.plot(x,y, color = 'orange')\n",
    "\n",
    "plt.title('Model NVIDIA loss with lr = 1e-5')\n",
    "plt.ylabel('loss')\n",
    "plt.xlabel('epoch')\n",
    "plt.ylim([0, 0.5])\n",
    "plt.legend(['Train\\nLoss: '+str(round(train_loss_nvidia,5)), '', 'Validaion\\nLoss: '+str(round(vali_loss_nvidia,5)), '', 'Test\\nLoss: '+str(round(test_loss_nvidia,5))], loc='upper right')\n",
    "plt.show()"
   ]
  },
  {
   "cell_type": "markdown",
   "id": "44158811",
   "metadata": {
    "papermill": {
     "duration": null,
     "end_time": null,
     "exception": null,
     "start_time": null,
     "status": "pending"
    },
    "tags": []
   },
   "source": [
    "## 9.2 ResNet50"
   ]
  },
  {
   "cell_type": "code",
   "execution_count": null,
   "id": "c762b722",
   "metadata": {
    "execution": {
     "iopub.execute_input": "2022-11-08T11:40:45.187462Z",
     "iopub.status.busy": "2022-11-08T11:40:45.187069Z",
     "iopub.status.idle": "2022-11-08T11:40:45.622611Z",
     "shell.execute_reply": "2022-11-08T11:40:45.621610Z",
     "shell.execute_reply.started": "2022-11-08T11:40:45.187430Z"
    },
    "papermill": {
     "duration": null,
     "end_time": null,
     "exception": null,
     "start_time": null,
     "status": "pending"
    },
    "tags": []
   },
   "outputs": [],
   "source": [
    "data_test_resnet50 = np.load(\"../input/data-test/Data Test/data_test_resnet50.npy\", allow_pickle = True)\n",
    "y_test_resnet50 = data_test_resnet50[0]\n",
    "y_pred_resnet50 = data_test_resnet50[1]\n",
    "test_loss_resnet50  = mean_squared_error(y_test_resnet50, y_pred_resnet50)\n",
    "fig1 = plt.figure(figsize = (20,6))\n",
    "\n",
    "plt.subplot(1, 2, 1)\n",
    "history_loss_resnet50_1 = np.load(\"../input/model-resnet/ResNet50/history_loss_1.npy\", allow_pickle = True)\n",
    "train_loss_resnet50_1 = min(history_loss_resnet50_1[0])\n",
    "vali_loss_resnet50_1  = min(history_loss_resnet50_1[1])\n",
    "\n",
    "plt.plot(history_loss_resnet50_1[0], color = 'red')\n",
    "x = [0, 200]\n",
    "y = [train_loss_resnet50_1, train_loss_resnet50_1]\n",
    "plt.plot(x,y, color = 'red')\n",
    "\n",
    "plt.plot(history_loss_resnet50_1[1], color = 'green')\n",
    "y = [vali_loss_resnet50_1, vali_loss_resnet50_1]\n",
    "plt.plot(x,y, color = 'green')\n",
    "y = [test_loss_resnet50, test_loss_resnet50]\n",
    "plt.plot(x,y, color = 'orange')\n",
    "\n",
    "plt.title('Model ResNet50 loss with lr = 1e-5')\n",
    "plt.ylabel('loss')\n",
    "plt.xlabel('epoch')\n",
    "plt.ylim([0, 0.5])\n",
    "plt.legend(['Train\\nLoss: '+str(round(train_loss_resnet50_1,5)), '', 'Validaion\\nLoss: '+str(round(vali_loss_resnet50_1,5)), '', 'Test\\nLoss: '+str(round(test_loss_resnet50,5))], loc='upper right')\n",
    "\n",
    "\n",
    "plt.subplot(1, 2, 2)\n",
    "history_loss_resnet50_2 = np.load(\"../input/model-resnet/ResNet50/history_loss_2.npy\", allow_pickle = True)\n",
    "train_loss_resnet50_2 = min(history_loss_resnet50_2[0])\n",
    "vali_loss_resnet50_2  = min(history_loss_resnet50_2[1])\n",
    "\n",
    "plt.plot(history_loss_resnet50_2[0], color = 'red')\n",
    "x = [0, 200]\n",
    "y = [train_loss_resnet50_2, train_loss_resnet50_2]\n",
    "plt.plot(x,y, color = 'red')\n",
    "\n",
    "plt.plot(history_loss_resnet50_2[1], color = 'green')\n",
    "y = [vali_loss_resnet50_2, vali_loss_resnet50_2]\n",
    "plt.plot(x,y, color = 'green')\n",
    "y = [test_loss_resnet50, test_loss_resnet50]\n",
    "plt.plot(x,y, color = 'orange')\n",
    "\n",
    "plt.title('Model ResNet50 loss with lr = 1e-4')\n",
    "plt.ylabel('loss')\n",
    "plt.xlabel('epoch')\n",
    "plt.ylim([0, 0.5])\n",
    "plt.legend(['Train\\nLoss: '+str(round(train_loss_resnet50_2,5)), '', 'Validaion\\nLoss: '+str(round(vali_loss_resnet50_2,5)), '', 'Test\\nLoss: '+str(round(test_loss_resnet50,5))], loc='upper right')\n",
    "plt.show()"
   ]
  },
  {
   "cell_type": "markdown",
   "id": "528e0c47",
   "metadata": {
    "papermill": {
     "duration": null,
     "end_time": null,
     "exception": null,
     "start_time": null,
     "status": "pending"
    },
    "tags": []
   },
   "source": [
    "## 9.3 Inception V3"
   ]
  },
  {
   "cell_type": "code",
   "execution_count": null,
   "id": "ce86168b",
   "metadata": {
    "execution": {
     "iopub.execute_input": "2022-11-08T11:40:48.646623Z",
     "iopub.status.busy": "2022-11-08T11:40:48.646240Z",
     "iopub.status.idle": "2022-11-08T11:40:48.905590Z",
     "shell.execute_reply": "2022-11-08T11:40:48.904616Z",
     "shell.execute_reply.started": "2022-11-08T11:40:48.646591Z"
    },
    "papermill": {
     "duration": null,
     "end_time": null,
     "exception": null,
     "start_time": null,
     "status": "pending"
    },
    "tags": []
   },
   "outputs": [],
   "source": [
    "data_test_inceptionv3 = np.load(\"../input/data-test/Data Test/data_test_inceptionv3.npy\", allow_pickle = True)\n",
    "history_loss_inceptionv3 = np.load(\"../input/model-inceptionv3/Inception v3/history_loss_2.npy\", allow_pickle = True)\n",
    "\n",
    "y_test_inceptionv3 = data_test_inceptionv3[0]\n",
    "y_pred_inceptionv3 = data_test_inceptionv3[1]\n",
    "\n",
    "train_loss_inceptionv3 = min(history_loss_inceptionv3[0])\n",
    "vali_loss_inceptionv3  = min(history_loss_inceptionv3[1])\n",
    "test_loss_inceptionv3  = mean_squared_error(y_test_inceptionv3, y_pred_inceptionv3)\n",
    "\n",
    "fig1 = plt.figure(figsize = (9,5.8))\n",
    "plt.plot(history_loss_inceptionv3[0], color = 'red')\n",
    "x = [0, 200]\n",
    "y = [train_loss_inceptionv3, train_loss_inceptionv3]\n",
    "plt.plot(x,y, color = 'red')\n",
    "\n",
    "plt.plot(history_loss_inceptionv3[1], color = 'green')\n",
    "y = [vali_loss_inceptionv3, vali_loss_inceptionv3]\n",
    "plt.plot(x,y, color = 'green')\n",
    "y = [test_loss_inceptionv3, test_loss_inceptionv3]\n",
    "plt.plot(x,y, color = 'orange')\n",
    "\n",
    "plt.title('Model Inception V3 loss with lr = 1e-5')\n",
    "plt.ylabel('loss')\n",
    "plt.xlabel('epoch')\n",
    "plt.ylim([0, 0.5])\n",
    "plt.legend(['Train\\nLoss: '+str(round(train_loss_inceptionv3,5)), '', 'Validaion\\nLoss: '+str(round(vali_loss_inceptionv3,5)), '', 'Test\\nLoss: '+str(round(test_loss_inceptionv3,5))], loc='upper right')\n",
    "plt.show()"
   ]
  },
  {
   "cell_type": "markdown",
   "id": "addd872f",
   "metadata": {
    "papermill": {
     "duration": null,
     "end_time": null,
     "exception": null,
     "start_time": null,
     "status": "pending"
    },
    "tags": []
   },
   "source": [
    "## 9.4 Summary results"
   ]
  },
  {
   "cell_type": "code",
   "execution_count": null,
   "id": "c79a35eb",
   "metadata": {
    "execution": {
     "iopub.execute_input": "2022-11-08T11:40:50.953617Z",
     "iopub.status.busy": "2022-11-08T11:40:50.952504Z",
     "iopub.status.idle": "2022-11-08T11:40:59.055871Z",
     "shell.execute_reply": "2022-11-08T11:40:59.054712Z",
     "shell.execute_reply.started": "2022-11-08T11:40:50.953578Z"
    },
    "papermill": {
     "duration": null,
     "end_time": null,
     "exception": null,
     "start_time": null,
     "status": "pending"
    },
    "tags": []
   },
   "outputs": [],
   "source": [
    "nvidia    = [train_loss_nvidia, vali_loss_nvidia, test_loss_nvidia]\n",
    "resnet    = [train_loss_resnet50_2, vali_loss_resnet50_2, test_loss_resnet50]\n",
    "inception = [train_loss_inceptionv3, vali_loss_inceptionv3, test_loss_inceptionv3]\n",
    "index = ['Train', 'Validation', 'Test']\n",
    "df = pd.DataFrame({'NVIDIA': nvidia,\n",
    "                   'Inception V3': inception,\n",
    "                   'ResNet50': resnet}, index=index)\n",
    "ax = df.plot.bar(rot=0, figsize = (9,5.8))"
   ]
  }
 ],
 "metadata": {
  "kernelspec": {
   "display_name": "Python 3",
   "language": "python",
   "name": "python3"
  },
  "language_info": {
   "codemirror_mode": {
    "name": "ipython",
    "version": 3
   },
   "file_extension": ".py",
   "mimetype": "text/x-python",
   "name": "python",
   "nbconvert_exporter": "python",
   "pygments_lexer": "ipython3",
   "version": "3.6.4"
  },
  "papermill": {
   "default_parameters": {},
   "duration": null,
   "end_time": null,
   "environment_variables": {},
   "exception": null,
   "input_path": "__notebook__.ipynb",
   "output_path": "__notebook__.ipynb",
   "parameters": {},
   "start_time": "2022-11-08T13:13:28.001399",
   "version": "2.3.4"
  }
 },
 "nbformat": 4,
 "nbformat_minor": 5
}